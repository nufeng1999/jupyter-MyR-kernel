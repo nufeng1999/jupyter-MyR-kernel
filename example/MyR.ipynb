{
 "cells": [
  {
   "cell_type": "code",
   "execution_count": 1,
   "id": "02e448fb",
   "metadata": {},
   "outputs": [
    {
     "name": "stdout",
     "output_type": "stream",
     "text": [
      "[MyRKernel215924] Info:file h:\\Jupyter\\ipynb\\MyR\\src/test.r created successfully\n",
      "[MyRKernel215924] Info:The process :h:\\Jupyter\\ipynb\\MyR\\src/test.r\n",
      "[MyRKernel215924] Info:Rscript --arch x64 h:\\Jupyter\\ipynb\\MyR\\src/test.r \n"
     ]
    },
    {
     "data": {
      "text/plain": [
       "[1] \"hello world!\"\r\n",
       "[1] \"hello world!\"\r\n"
      ]
     },
     "metadata": {
      "text/plain": {}
     },
     "output_type": "display_data"
    },
    {
     "name": "stdout",
     "output_type": "stream",
     "text": [
      "[MyRKernel215924] Info:The process end:14236\n"
     ]
    }
   ],
   "source": [
    "##%log:1\n",
    "##%overwritefile\n",
    "##%file:src/test.r\n",
    "##%options:--arch x64\n",
    "## %outputtype:text/html\n",
    "mystr<-\"hello world!\"\n",
    "show(mystr)\n",
    "print(mystr)"
   ]
  },
  {
   "cell_type": "code",
   "execution_count": null,
   "id": "b71c41d3",
   "metadata": {},
   "outputs": [],
   "source": []
  }
 ],
 "metadata": {
  "interpreter": {
   "hash": "790d66b9a7d127603100553f17b106d8e2aaf6777ced79107fc93b8d84add8f0"
  },
  "kernelspec": {
   "display_name": "MyR",
   "language": "r",
   "name": "myr"
  },
  "language_info": {
   "codemirror_mode": {
    "name": "ipython",
    "version": 3
   },
   "file_extension": ".ts",
   "mimetype": "text/r",
   "name": "r",
   "nbconvert_exporter": "R",
   "pygments_lexer": "ipython3",
   "version": "3.9.6"
  },
  "widgets": {
   "application/vnd.jupyter.widget-state+json": {
    "state": {},
    "version_major": 2,
    "version_minor": 0
   }
  }
 },
 "nbformat": 4,
 "nbformat_minor": 5
}
