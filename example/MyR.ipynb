{
 "cells": [
  {
   "cell_type": "code",
   "execution_count": null,
   "id": "02e448fb",
   "metadata": {},
   "outputs": [],
   "source": [
    "##%log:1\n",
    "##%overwritefile\n",
    "##%file:src/test.r\n",
    "##%options:--arch x64\n",
    "## %outputtype:text/html\n",
    "mystr<-\"hello world!\"\n",
    "show(mystr)\n",
    "print(mystr)"
   ]
  },
  {
   "cell_type": "code",
   "execution_count": 21,
   "id": "b71c41d3",
   "metadata": {},
   "outputs": [
    {
     "name": "stdout",
     "output_type": "stream",
     "text": [
      "[MyRKernel084124] Info:file h:\\Jupyter\\ipynb\\MyR\\src/test1.r created successfully\n",
      "[MyRKernel084124] Info:The process :h:\\Jupyter\\ipynb\\MyR\\src/test1.r\n",
      "[MyRKernel084124] Info:Rscript h:\\Jupyter\\ipynb\\MyR\\src/test1.r \n",
      "[MyRKernel084124] Info:The process end:17348\n"
     ]
    }
   ],
   "source": [
    "\n",
    "##%overwritefile\n",
    "##%file:src/test1.r\n",
    "# 数据准备\n",
    "##fileencode:GBK\n",
    "##//%outputtype:image/png\n",
    "##%outencode:GBK\n",
    "##%fileencode:GBK\n",
    "# install.packages(\"plotrix\", repos = \"https://mirrors.ustc.edu.cn/CRAN/\")\n",
    "library(sysfonts);\n",
    "# library(showtextdb);\n",
    "# library(showtext)\n",
    "# font_add(\"STSong\",\"simsun.ttc\");\n",
    "windowsFonts(\n",
    "   A=windowsFont(\"华文彩云\"),#这里使用的是字体的主题名称\n",
    "   B=windowsFont(\"华文仿宋\"),\n",
    "   C=windowsFont(\"华文行楷\"),\n",
    "   D=windowsFont(\"华文楷体\"),\n",
    "   E=windowsFont(\"华文隶书\"),\n",
    "   F=windowsFont(\"华文中宋\"),\n",
    "   G=windowsFont(\"华文细黑\"),\n",
    "   H=windowsFont(\"微软雅黑\"),\n",
    "   J=windowsFont(\"华文新魏\"),\n",
    "   K=windowsFont(\"幼圆\"),\n",
    "   K=windowsFont(\"宋体\")\n",
    "  )\n",
    "\n",
    "info = c(1, 2, 4, 8)\n",
    "# 命名\n",
    "names = c(\"Google\", \"动态\", \"测试1\", \"Weibo\")\n",
    "# names <- c(\"小刚\",\"小丽\",\"小花\",\"小兰\",\"小美\")\n",
    "\n",
    "# 涂色（可选）\n",
    "cols = c(\"#ED1C24\",\"#22B14C\",\"#FFC90E\",\"#3f48CC\")\n",
    "\n",
    "# sales <- c(122.3,169,198,110,173)\n",
    "\n",
    "# 设置输出图片\n",
    "png(file=\"runoob-pie.png\", height=300, width=300)\n",
    "# 绘图\n",
    "\n",
    "# showtext_begin()\n",
    "# pie(sales,labels=names,family='K')\n",
    "pie(info, labels=names, col=cols,family='H')\n",
    "\n",
    "# showtext_end()\n",
    "# warnings()"
   ]
  },
  {
   "cell_type": "code",
   "execution_count": null,
   "id": "3dc58d0d",
   "metadata": {},
   "outputs": [],
   "source": [
    "##%overwritefile\n",
    "##%file:src/test2.r\n",
    "##%log:1\n",
    "dev_stdout = function (underlying_device = png, ...) {\n",
    "    filename = tempfile()\n",
    "    underlying_device(filename, ...)\n",
    "    filename\n",
    "}\n",
    "dev_stdout_off = function (filename) {\n",
    "    dev.off()\n",
    "    on.exit(unlink(filename))\n",
    "    fake_stdout = pipe('cat', 'wb')\n",
    "    on.exit(close(fake_stdout), add = TRUE)\n",
    "    writeBin(readBin(filename, 'raw', file.info(filename)$size), fake_stdout)\n",
    "}\n",
    "\n",
    "tmp_dev = dev_stdout()\n",
    "contour(volcano)\n",
    "dev_stdout_off(tmp_dev)\n"
   ]
  },
  {
   "cell_type": "code",
   "execution_count": null,
   "id": "9f9dd970",
   "metadata": {},
   "outputs": [],
   "source": [
    "\n",
    "font_files()"
   ]
  },
  {
   "cell_type": "code",
   "execution_count": null,
   "id": "59802892",
   "metadata": {},
   "outputs": [],
   "source": [
    "# 载入 plotrix\n",
    "library(plotrix)\n",
    "# 数据准备\n",
    "info = c(1, 2, 4, 8)\n",
    "\n",
    "# 命名\n",
    "names = c(\"Google\", \"Runoob\", \"Taobao\", \"Weibo\")\n",
    "\n",
    "# 涂色（可选）\n",
    "cols = c(\"#ED1C24\",\"#22B14C\",\"#FFC90E\",\"#3f48CC\")\n",
    "\n",
    "# 设置文件名，输出为 png\n",
    "png(file = \"3d_pie_chart.png\")\n",
    "\n",
    "# 绘制 3D 图，family 要设置你系统支持的中文字体库\n",
    "pie3D(info,labels = names,explode = 0.1, main = \"3D 图\",family = \"宋体\")"
   ]
  },
  {
   "cell_type": "code",
   "execution_count": null,
   "id": "cadc1b5f",
   "metadata": {},
   "outputs": [],
   "source": []
  }
 ],
 "metadata": {
  "interpreter": {
   "hash": "790d66b9a7d127603100553f17b106d8e2aaf6777ced79107fc93b8d84add8f0"
  },
  "kernelspec": {
   "display_name": "MyR",
   "language": "r",
   "name": "myr"
  },
  "language_info": {
   "codemirror_mode": {
    "name": "ipython",
    "version": 3
   },
   "file_extension": ".ts",
   "mimetype": "text/r",
   "name": "r",
   "nbconvert_exporter": "R",
   "pygments_lexer": "ipython3",
   "version": "3.9.6"
  },
  "widgets": {
   "application/vnd.jupyter.widget-state+json": {
    "state": {},
    "version_major": 2,
    "version_minor": 0
   }
  }
 },
 "nbformat": 4,
 "nbformat_minor": 5
}
